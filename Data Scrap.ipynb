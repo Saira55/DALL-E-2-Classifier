{
 "cells": [
  {
   "cell_type": "code",
   "execution_count": 14,
   "id": "e2294ae4",
   "metadata": {},
   "outputs": [],
   "source": [
    "# Scrape human made images"
   ]
  },
  {
   "cell_type": "code",
   "execution_count": 2,
   "id": "dd1adb2e",
   "metadata": {},
   "outputs": [
    {
     "name": "stdout",
     "output_type": "stream",
     "text": [
      "Collecting selenium\n",
      "  Downloading selenium-4.9.1-py3-none-any.whl (6.6 MB)\n",
      "     ---------------------------------------- 6.6/6.6 MB 3.1 MB/s eta 0:00:00\n",
      "Requirement already satisfied: urllib3[socks]<3,>=1.26 in c:\\users\\uzma\\anaconda3\\lib\\site-packages (from selenium) (1.26.14)\n",
      "Collecting trio~=0.17\n",
      "  Downloading trio-0.22.0-py3-none-any.whl (384 kB)\n",
      "     -------------------------------------- 384.9/384.9 kB 3.4 MB/s eta 0:00:00\n",
      "Requirement already satisfied: certifi>=2021.10.8 in c:\\users\\uzma\\anaconda3\\lib\\site-packages (from selenium) (2022.12.7)\n",
      "Collecting trio-websocket~=0.9\n",
      "  Downloading trio_websocket-0.10.2-py3-none-any.whl (17 kB)\n",
      "Collecting outcome\n",
      "  Downloading outcome-1.2.0-py2.py3-none-any.whl (9.7 kB)\n",
      "Requirement already satisfied: sortedcontainers in c:\\users\\uzma\\anaconda3\\lib\\site-packages (from trio~=0.17->selenium) (2.4.0)\n",
      "Collecting async-generator>=1.9\n",
      "  Downloading async_generator-1.10-py3-none-any.whl (18 kB)\n",
      "Requirement already satisfied: attrs>=19.2.0 in c:\\users\\uzma\\anaconda3\\lib\\site-packages (from trio~=0.17->selenium) (22.1.0)\n",
      "Collecting exceptiongroup>=1.0.0rc9\n",
      "  Downloading exceptiongroup-1.1.1-py3-none-any.whl (14 kB)\n",
      "Requirement already satisfied: idna in c:\\users\\uzma\\anaconda3\\lib\\site-packages (from trio~=0.17->selenium) (3.4)\n",
      "Requirement already satisfied: cffi>=1.14 in c:\\users\\uzma\\anaconda3\\lib\\site-packages (from trio~=0.17->selenium) (1.15.1)\n",
      "Requirement already satisfied: sniffio in c:\\users\\uzma\\anaconda3\\lib\\site-packages (from trio~=0.17->selenium) (1.2.0)\n",
      "Collecting wsproto>=0.14\n",
      "  Downloading wsproto-1.2.0-py3-none-any.whl (24 kB)\n",
      "Requirement already satisfied: PySocks!=1.5.7,<2.0,>=1.5.6 in c:\\users\\uzma\\anaconda3\\lib\\site-packages (from urllib3[socks]<3,>=1.26->selenium) (1.7.1)\n",
      "Requirement already satisfied: pycparser in c:\\users\\uzma\\anaconda3\\lib\\site-packages (from cffi>=1.14->trio~=0.17->selenium) (2.21)\n",
      "Collecting h11<1,>=0.9.0\n",
      "  Downloading h11-0.14.0-py3-none-any.whl (58 kB)\n",
      "     ---------------------------------------- 58.3/58.3 kB 3.2 MB/s eta 0:00:00\n",
      "Installing collected packages: outcome, h11, exceptiongroup, async-generator, wsproto, trio, trio-websocket, selenium\n",
      "Successfully installed async-generator-1.10 exceptiongroup-1.1.1 h11-0.14.0 outcome-1.2.0 selenium-4.9.1 trio-0.22.0 trio-websocket-0.10.2 wsproto-1.2.0\n"
     ]
    }
   ],
   "source": [
    "!pip install selenium"
   ]
  },
  {
   "cell_type": "code",
   "execution_count": 3,
   "id": "4b3edebd",
   "metadata": {},
   "outputs": [],
   "source": [
    "from multiprocessing.sharedctypes import Value\n",
    "from selenium import webdriver\n",
    "from selenium.webdriver.common.by import By\n",
    "import requests\n",
    "import io\n",
    "from datetime import datetime as dt\n",
    "from PIL import Image\n",
    "import time\n",
    "import os\n",
    "import urllib"
   ]
  },
  {
   "cell_type": "code",
   "execution_count": 7,
   "id": "6e2f9fc2",
   "metadata": {},
   "outputs": [],
   "source": [
    "HUMAN = 'C:\\\\Users\\\\Uzma\\\\Desktop\\\\HUMAN\\\\'"
   ]
  },
  {
   "cell_type": "code",
   "execution_count": 8,
   "id": "a0bd5abb",
   "metadata": {},
   "outputs": [],
   "source": [
    "# Download the driver from chromedriver website for relevant OS i.e. MAC, Windows, Debian, etc.\n",
    "PATH = 'C:\\\\Users\\\\Uzma\\\\Desktop\\\\chromedriver_win32\\\\chromedriver'\n"
   ]
  },
  {
   "cell_type": "code",
   "execution_count": 20,
   "id": "9bc64db4",
   "metadata": {},
   "outputs": [
    {
     "name": "stderr",
     "output_type": "stream",
     "text": [
      "C:\\Users\\Uzma\\AppData\\Local\\Temp\\ipykernel_8672\\2459051848.py:33: DeprecationWarning: executable_path has been deprecated, please pass in a Service object\n",
      "  wd = webdriver.Chrome(executable_path=PATH)\n"
     ]
    },
    {
     "name": "stdout",
     "output_type": "stream",
     "text": [
      "0\n"
     ]
    },
    {
     "ename": "StaleElementReferenceException",
     "evalue": "Message: stale element reference: stale element not found\n  (Session info: chrome=113.0.5672.93)\nStacktrace:\nBacktrace:\n\tGetHandleVerifier [0x00A88893+48451]\n\t(No symbol) [0x00A1B8A1]\n\t(No symbol) [0x00925058]\n\t(No symbol) [0x0092E1F3]\n\t(No symbol) [0x009286C8]\n\t(No symbol) [0x009286A6]\n\t(No symbol) [0x00927853]\n\t(No symbol) [0x00929DEB]\n\t(No symbol) [0x0097CDD9]\n\t(No symbol) [0x0096A2BC]\n\t(No symbol) [0x0097C482]\n\t(No symbol) [0x0096A0B6]\n\t(No symbol) [0x00947E08]\n\t(No symbol) [0x00948F2D]\n\tGetHandleVerifier [0x00CE8E3A+2540266]\n\tGetHandleVerifier [0x00D28959+2801161]\n\tGetHandleVerifier [0x00D2295C+2776588]\n\tGetHandleVerifier [0x00B12280+612144]\n\t(No symbol) [0x00A24F6C]\n\t(No symbol) [0x00A211D8]\n\t(No symbol) [0x00A212BB]\n\t(No symbol) [0x00A14857]\n\tBaseThreadInitThunk [0x757100C9+25]\n\tRtlGetAppContainerNamedObjectPath [0x770F7B4E+286]\n\tRtlGetAppContainerNamedObjectPath [0x770F7B1E+238]\n",
     "output_type": "error",
     "traceback": [
      "\u001b[1;31m---------------------------------------------------------------------------\u001b[0m",
      "\u001b[1;31mStaleElementReferenceException\u001b[0m            Traceback (most recent call last)",
      "Cell \u001b[1;32mIn[20], line 51\u001b[0m\n\u001b[0;32m     49\u001b[0m time\u001b[38;5;241m.\u001b[39msleep(\u001b[38;5;241m3\u001b[39m)\n\u001b[0;32m     50\u001b[0m \u001b[38;5;28;01mfor\u001b[39;00m img \u001b[38;5;129;01min\u001b[39;00m thumbnails:\n\u001b[1;32m---> 51\u001b[0m     src \u001b[38;5;241m=\u001b[39m \u001b[43mimg\u001b[49m\u001b[38;5;241;43m.\u001b[39;49m\u001b[43mget_attribute\u001b[49m\u001b[43m(\u001b[49m\u001b[38;5;124;43m'\u001b[39;49m\u001b[38;5;124;43msrc\u001b[39;49m\u001b[38;5;124;43m'\u001b[39;49m\u001b[43m)\u001b[49m\n\u001b[0;32m     52\u001b[0m     \u001b[38;5;28;01mif\u001b[39;00m src \u001b[38;5;129;01mnot\u001b[39;00m \u001b[38;5;129;01min\u001b[39;00m image_urls:\n\u001b[0;32m     53\u001b[0m         image_urls\u001b[38;5;241m.\u001b[39madd(img\u001b[38;5;241m.\u001b[39mget_attribute(\u001b[38;5;124m'\u001b[39m\u001b[38;5;124msrc\u001b[39m\u001b[38;5;124m'\u001b[39m))\n",
      "File \u001b[1;32m~\\anaconda3\\lib\\site-packages\\selenium\\webdriver\\remote\\webelement.py:178\u001b[0m, in \u001b[0;36mWebElement.get_attribute\u001b[1;34m(self, name)\u001b[0m\n\u001b[0;32m    176\u001b[0m \u001b[38;5;28;01mif\u001b[39;00m getAttribute_js \u001b[38;5;129;01mis\u001b[39;00m \u001b[38;5;28;01mNone\u001b[39;00m:\n\u001b[0;32m    177\u001b[0m     _load_js()\n\u001b[1;32m--> 178\u001b[0m attribute_value \u001b[38;5;241m=\u001b[39m \u001b[38;5;28;43mself\u001b[39;49m\u001b[38;5;241;43m.\u001b[39;49m\u001b[43mparent\u001b[49m\u001b[38;5;241;43m.\u001b[39;49m\u001b[43mexecute_script\u001b[49m\u001b[43m(\u001b[49m\n\u001b[0;32m    179\u001b[0m \u001b[43m    \u001b[49m\u001b[38;5;124;43mf\u001b[39;49m\u001b[38;5;124;43m\"\u001b[39;49m\u001b[38;5;124;43m/* getAttribute */return (\u001b[39;49m\u001b[38;5;132;43;01m{\u001b[39;49;00m\u001b[43mgetAttribute_js\u001b[49m\u001b[38;5;132;43;01m}\u001b[39;49;00m\u001b[38;5;124;43m).apply(null, arguments);\u001b[39;49m\u001b[38;5;124;43m\"\u001b[39;49m\u001b[43m,\u001b[49m\u001b[43m \u001b[49m\u001b[38;5;28;43mself\u001b[39;49m\u001b[43m,\u001b[49m\u001b[43m \u001b[49m\u001b[43mname\u001b[49m\n\u001b[0;32m    180\u001b[0m \u001b[43m\u001b[49m\u001b[43m)\u001b[49m\n\u001b[0;32m    181\u001b[0m \u001b[38;5;28;01mreturn\u001b[39;00m attribute_value\n",
      "File \u001b[1;32m~\\anaconda3\\lib\\site-packages\\selenium\\webdriver\\remote\\webdriver.py:500\u001b[0m, in \u001b[0;36mWebDriver.execute_script\u001b[1;34m(self, script, *args)\u001b[0m\n\u001b[0;32m    497\u001b[0m converted_args \u001b[38;5;241m=\u001b[39m \u001b[38;5;28mlist\u001b[39m(args)\n\u001b[0;32m    498\u001b[0m command \u001b[38;5;241m=\u001b[39m Command\u001b[38;5;241m.\u001b[39mW3C_EXECUTE_SCRIPT\n\u001b[1;32m--> 500\u001b[0m \u001b[38;5;28;01mreturn\u001b[39;00m \u001b[38;5;28;43mself\u001b[39;49m\u001b[38;5;241;43m.\u001b[39;49m\u001b[43mexecute\u001b[49m\u001b[43m(\u001b[49m\u001b[43mcommand\u001b[49m\u001b[43m,\u001b[49m\u001b[43m \u001b[49m\u001b[43m{\u001b[49m\u001b[38;5;124;43m\"\u001b[39;49m\u001b[38;5;124;43mscript\u001b[39;49m\u001b[38;5;124;43m\"\u001b[39;49m\u001b[43m:\u001b[49m\u001b[43m \u001b[49m\u001b[43mscript\u001b[49m\u001b[43m,\u001b[49m\u001b[43m \u001b[49m\u001b[38;5;124;43m\"\u001b[39;49m\u001b[38;5;124;43margs\u001b[39;49m\u001b[38;5;124;43m\"\u001b[39;49m\u001b[43m:\u001b[49m\u001b[43m \u001b[49m\u001b[43mconverted_args\u001b[49m\u001b[43m}\u001b[49m\u001b[43m)\u001b[49m[\u001b[38;5;124m\"\u001b[39m\u001b[38;5;124mvalue\u001b[39m\u001b[38;5;124m\"\u001b[39m]\n",
      "File \u001b[1;32m~\\anaconda3\\lib\\site-packages\\selenium\\webdriver\\remote\\webdriver.py:440\u001b[0m, in \u001b[0;36mWebDriver.execute\u001b[1;34m(self, driver_command, params)\u001b[0m\n\u001b[0;32m    438\u001b[0m response \u001b[38;5;241m=\u001b[39m \u001b[38;5;28mself\u001b[39m\u001b[38;5;241m.\u001b[39mcommand_executor\u001b[38;5;241m.\u001b[39mexecute(driver_command, params)\n\u001b[0;32m    439\u001b[0m \u001b[38;5;28;01mif\u001b[39;00m response:\n\u001b[1;32m--> 440\u001b[0m     \u001b[38;5;28;43mself\u001b[39;49m\u001b[38;5;241;43m.\u001b[39;49m\u001b[43merror_handler\u001b[49m\u001b[38;5;241;43m.\u001b[39;49m\u001b[43mcheck_response\u001b[49m\u001b[43m(\u001b[49m\u001b[43mresponse\u001b[49m\u001b[43m)\u001b[49m\n\u001b[0;32m    441\u001b[0m     response[\u001b[38;5;124m\"\u001b[39m\u001b[38;5;124mvalue\u001b[39m\u001b[38;5;124m\"\u001b[39m] \u001b[38;5;241m=\u001b[39m \u001b[38;5;28mself\u001b[39m\u001b[38;5;241m.\u001b[39m_unwrap_value(response\u001b[38;5;241m.\u001b[39mget(\u001b[38;5;124m\"\u001b[39m\u001b[38;5;124mvalue\u001b[39m\u001b[38;5;124m\"\u001b[39m, \u001b[38;5;28;01mNone\u001b[39;00m))\n\u001b[0;32m    442\u001b[0m     \u001b[38;5;28;01mreturn\u001b[39;00m response\n",
      "File \u001b[1;32m~\\anaconda3\\lib\\site-packages\\selenium\\webdriver\\remote\\errorhandler.py:245\u001b[0m, in \u001b[0;36mErrorHandler.check_response\u001b[1;34m(self, response)\u001b[0m\n\u001b[0;32m    243\u001b[0m         alert_text \u001b[38;5;241m=\u001b[39m value[\u001b[38;5;124m\"\u001b[39m\u001b[38;5;124malert\u001b[39m\u001b[38;5;124m\"\u001b[39m]\u001b[38;5;241m.\u001b[39mget(\u001b[38;5;124m\"\u001b[39m\u001b[38;5;124mtext\u001b[39m\u001b[38;5;124m\"\u001b[39m)\n\u001b[0;32m    244\u001b[0m     \u001b[38;5;28;01mraise\u001b[39;00m exception_class(message, screen, stacktrace, alert_text)  \u001b[38;5;66;03m# type: ignore[call-arg]  # mypy is not smart enough here\u001b[39;00m\n\u001b[1;32m--> 245\u001b[0m \u001b[38;5;28;01mraise\u001b[39;00m exception_class(message, screen, stacktrace)\n",
      "\u001b[1;31mStaleElementReferenceException\u001b[0m: Message: stale element reference: stale element not found\n  (Session info: chrome=113.0.5672.93)\nStacktrace:\nBacktrace:\n\tGetHandleVerifier [0x00A88893+48451]\n\t(No symbol) [0x00A1B8A1]\n\t(No symbol) [0x00925058]\n\t(No symbol) [0x0092E1F3]\n\t(No symbol) [0x009286C8]\n\t(No symbol) [0x009286A6]\n\t(No symbol) [0x00927853]\n\t(No symbol) [0x00929DEB]\n\t(No symbol) [0x0097CDD9]\n\t(No symbol) [0x0096A2BC]\n\t(No symbol) [0x0097C482]\n\t(No symbol) [0x0096A0B6]\n\t(No symbol) [0x00947E08]\n\t(No symbol) [0x00948F2D]\n\tGetHandleVerifier [0x00CE8E3A+2540266]\n\tGetHandleVerifier [0x00D28959+2801161]\n\tGetHandleVerifier [0x00D2295C+2776588]\n\tGetHandleVerifier [0x00B12280+612144]\n\t(No symbol) [0x00A24F6C]\n\t(No symbol) [0x00A211D8]\n\t(No symbol) [0x00A212BB]\n\t(No symbol) [0x00A14857]\n\tBaseThreadInitThunk [0x757100C9+25]\n\tRtlGetAppContainerNamedObjectPath [0x770F7B4E+286]\n\tRtlGetAppContainerNamedObjectPath [0x770F7B1E+238]\n"
     ]
    }
   ],
   "source": [
    "urls = ['https://www.google.com/search?q=art+graphic+design&tbm=isch&ved=2ahUKEwisiM6s2pr-AhXPGTQIHXYSB84Q2-cCegQIABAA&oq=art+graphic+design&gs_lcp=CgNpbWcQAzIHCAAQigUQQzIHCAAQigUQQzIHCAAQigUQQzIHCAAQigUQQzIFCAAQgAQyBQgAEIAEMgUIABCABDIFCAAQgAQyBQgAEIAEMgUIABCABDoECCMQJ1DxAliJCmDFDmgAcAB4AIABb4gB1AWSAQM3LjGYAQCgAQGqAQtnd3Mtd2l6LWltZ8ABAQ&sclient=img&ei=bZYxZOydC8-z0PEP9qSc8Aw&bih=609&biw=1280',\n",
    "       'https://www.google.com/search?q=anime+art&tbm=isch&ved=2ahUKEwjdz9iv2pr-AhUyAzQIHXdzAjMQ2-cCegQIABAA&oq=anime+art&gs_lcp=CgNpbWcQAzIKCAAQigUQsQMQQzIFCAAQgAQyBQgAEIAEMgUIABCABDIFCAAQgAQyBQgAEIAEMgUIABCABDIFCAAQgAQyBQgAEIAEMgUIABCABDoHCAAQigUQQzoECCMQJ1DjBFinDWDoD2gAcAB4AIABbIgBvgeSAQM3LjOYAQCgAQGqAQtnd3Mtd2l6LWltZ8ABAQ&sclient=img&ei=c5YxZJ3KJ7KG0PEP9-aJmAM&bih=609&biw=1280',\n",
    "       'https://www.google.com/search?q=people+outside&tbm=isch&ved=2ahUKEwid5LC33pr-AhX0HzQIHWLOAkMQ2-cCegQIABAA&oq=people+outside&gs_lcp=CgNpbWcQAzIFCAAQgAQyBQgAEIAEMgUIABCABDIFCAAQgAQyBQgAEIAEMgUIABCABDIFCAAQgAQyBQgAEIAEMgUIABCABDIFCAAQgAQ6BAgjECc6BwgAEIoFEEM6CggAEIoFELEDEEM6CAgAEIAEELEDOggIABCxAxCDAToGCAAQCBAeUMsIWNkrYJUsaARwAHgAgAFtiAHPDJIBBDE2LjKYAQCgAQGqAQtnd3Mtd2l6LWltZ8ABAQ&sclient=img&ei=tZoxZN21H_S_0PEP4pyLmAQ&bih=609&biw=1280',\n",
    "       'https://www.google.com/search?q=digital+art&tbm=isch&ved=2ahUKEwjejJ7B3pr-AhWLATQIHQqgCDMQ2-cCegQIABAA&oq=digital+art&gs_lcp=CgNpbWcQAzIKCAAQigUQsQMQQzIHCAAQigUQQzIFCAAQgAQyBQgAEIAEMgUIABCABDIFCAAQgAQyBQgAEIAEMgUIABCABDIFCAAQgAQyBQgAEIAEOgQIIxAnOggIABCABBCxAzoICAAQsQMQgwFQlgVY7Q9guRRoAHAAeACAAWmIAdgIkgEEMTAuMpgBAKABAaoBC2d3cy13aXotaW1nwAEB&sclient=img&ei=ypoxZN7_CouD0PEPisCimAM&bih=609&biw=1280',\n",
    "       'https://www.google.com/search?q=digital+art&tbm=isch&chips=q:digital+art,g_1:portrait:rxaMKhJ3aNU%3D&hl=en&sa=X&ved=2ahUKEwiazeWH35r-AhUTJ30KHXJpCOoQ4lYoBHoECAEQLg&biw=1263&bih=609',\n",
    "       'https://www.google.com/search?q=digital+art&tbm=isch&chips=q:digital+art,g_1:drawing:wv9WUjQunSk%3D&hl=en&sa=X&ved=2ahUKEwiazeWH35r-AhUTJ30KHXJpCOoQ4lYoBnoECAEQMg&biw=1263&bih=609',\n",
    "       'https://www.google.com/search?q=abstract+art&tbm=isch&ved=2ahUKEwixmvia35r-AhXMBTQIHWKLBCkQ2-cCegQIABAA&oq=abstract+art&gs_lcp=CgNpbWcQAzIKCAAQigUQsQMQQzIHCAAQigUQQzIHCAAQigUQQzIHCAAQigUQQzIFCAAQgAQyBQgAEIAEMgUIABCABDIFCAAQgAQyBQgAEIAEMgUIABCABDoECCMQJ1CwBFjxD2CPEmgAcAB4AIABaYgBowmSAQQxMS4ymAEAoAEBqgELZ3dzLXdpei1pbWfAAQE&sclient=img&ei=hpsxZLG_EsyL0PEP4paSyAI&bih=609&biw=1263&hl=en',\n",
    "       'https://www.google.com/search?q=paintings&tbm=isch&ved=2ahUKEwjirOTF35r-AhULHDQIHQXqChwQ2-cCegQIABAA&oq=paintings&gs_lcp=CgNpbWcQAzIKCAAQigUQsQMQQzIHCAAQigUQQzIHCAAQigUQQzIHCAAQigUQQzIFCAAQgAQyBQgAEIAEMgUIABCABDIFCAAQgAQyBQgAEIAEMgUIABCABDoECCMQJ1C9DVi1EmDwE2gAcAB4AIABqAGIAeMIkgEDNS41mAEAoAEBqgELZ3dzLXdpei1pbWfAAQE&sclient=img&ei=4JsxZOK8CYu40PEPhdSr4AE&bih=609&biw=1263&hl=en',\n",
    "       'https://www.google.com/search?q=cartoon&tbm=isch&ved=2ahUKEwid9c-W4Jr-AhVgADQIHf3LAdYQ2-cCegQIABAA&oq=cartoon&gs_lcp=CgNpbWcQAzIKCAAQigUQsQMQQzIHCAAQigUQQzIKCAAQigUQsQMQQzIKCAAQigUQsQMQQzIHCAAQigUQQzIHCAAQigUQQzIKCAAQigUQsQMQQzIKCAAQigUQsQMQQzIHCAAQigUQQzIICAAQgAQQsQM6BAgjECc6BQgAEIAEUMgEWOwMYKMOaABwAHgAgAFviAHjBZIBAzcuMZgBAKABAaoBC2d3cy13aXotaW1nwAEB&sclient=img&ei=iZwxZN2MKuCA0PEP_ZeHsA0&bih=609&biw=1263&hl=en',\n",
    "       'https://www.google.com/search?q=animals&tbm=isch&ved=2ahUKEwixnMK34Jr-AhWKBzQIHdT6AE8Q2-cCegQIABAA&oq=animals&gs_lcp=CgNpbWcQAzIICAAQgAQQsQMyCwgAEIAEELEDEIMBMgUIABCABDIFCAAQgAQyCAgAEIAEELEDMgUIABCABDIICAAQgAQQsQMyBQgAEIAEMgUIABCABDIFCAAQgAQ6BAgjECc6CggAEIoFELEDEEM6BwgAEIoFEENQrAVY6gpg9wtoAHAAeACAAW2IAeMFkgEDNy4xmAEAoAEBqgELZ3dzLXdpei1pbWfAAQE&sclient=img&ei=zpwxZLH9KIqP0PEP1PWD-AQ&bih=609&biw=1263&hl=en',\n",
    "       'https://www.google.com/search?q=drawings&tbm=isch&ved=2ahUKEwixnMK34Jr-AhWKBzQIHdT6AE8Q2-cCegQIABAA&oq=drawings&gs_lcp=CgNpbWcQAzIKCAAQigUQsQMQQzIHCAAQigUQQzIHCAAQigUQQzIKCAAQigUQsQMQQzIHCAAQigUQQzIHCAAQigUQQzIHCAAQigUQQzIHCAAQigUQQzIHCAAQigUQQzIHCAAQigUQQzoECCMQJzoFCAAQgAQ6CAgAEIAEELEDUPYEWKEMYOwMaABwAHgAgAFyiAH1BZIBAzcuMZgBAKABAaoBC2d3cy13aXotaW1nwAEB&sclient=img&ei=zpwxZLH9KIqP0PEP1PWD-AQ&bih=609&biw=1263&hl=en',\n",
    "        'https://www.google.com/search?q=people+doing+things+real&tbm=isch&ved=2ahUKEwjQ-9ST95r-AhXhGTQIHWqpDgEQ2-cCegQIABAA&oq=people+doing+things+real&gs_lcp=CgNpbWcQAzIGCAAQCBAeOgQIIxAnOgcIABCKBRBDOgUIABCABDoGCAAQBRAeUIEDWNcHYKQJaABwAHgAgAGoAYgBsQWSAQMyLjSYAQCgAQGqAQtnd3Mtd2l6LWltZ8ABAQ&sclient=img&ei=obQxZJCnHuGz0PEP6tK6CA&bih=609&biw=1280',\n",
    "        'https://www.google.com/search?q=portraits&tbm=isch&chips=q:portraits,g_1:photography:G7hcdP5jhN0%3D&hl=en&sa=X&ved=2ahUKEwj9tra295r-AhW2GTQIHYkLApAQ4lYoAnoECAEQKg&biw=1263&bih=609',\n",
    "        'https://www.google.com/search?q=watercolour&tbm=isch&ved=2ahUKEwiDrJ6v_5r-AhURAzQIHWRjBnIQ2-cCegQIABAA&oq=watercolour&gs_lcp=CgNpbWcQAzIICAAQgAQQsQMyCAgAEIAEELEDMggIABCABBCxAzIFCAAQgAQyBQgAEIAEMgUIABCABDIFCAAQgAQyBQgAEIAEMgUIABCABDIFCAAQgAQ6BAgjECc6BwgAEIoFEENQ5QZYjw9glhBoAHAAeACAAW-IAcQGkgEDNy4ymAEAoAEBqgELZ3dzLXdpei1pbWfAAQE&sclient=img&ei=Pr0xZIOVMZGG0PEP5MaZkAc&bih=609&biw=1263&hl=en',\n",
    "        'https://www.google.com/search?q=oil+painting&tbm=isch&ved=2ahUKEwi5l56y_5r-AhX6HDQIHQlkBZ4Q2-cCegQIABAA&oq=oi&gs_lcp=CgNpbWcQARgAMgoIABCKBRCxAxBDMgcIABCKBRBDMgcIABCKBRBDMgoIABCKBRCxAxBDMggIABCABBCxAzIICAAQgAQQsQMyCAgAEIAEELEDMggIABCABBCxAzIICAAQgAQQsQMyBQgAEIAEOgQIIxAnOggIABCxAxCDAVDECljhC2CiF2gAcAB4AIABY4gBkAKSAQEzmAEAoAEBqgELZ3dzLXdpei1pbWfAAQE&sclient=img&ei=Rb0xZPngBfq50PEPiciV8Ak&bih=609&biw=1263&hl=en'\n",
    "       ]\n",
    "\n",
    "categories = ['a_graphic_deisgn_art', 'b_anime_art', 'c_people_outside', 'd_digital_art', \n",
    "              'e_digital_art_portrait', 'f_igital_art_drawing', 'g_abstract_art', 'h_paintings', 'i_cartoon',\n",
    "             'j_animals', 'k_drawings', 'l_people_doing_things','m_real_portraits', 'n_watercolour', 'o_oil' ]\n",
    "\n",
    "def scroll_down(wd):\n",
    "    wd.execute_script(\"window.scrollTo(0, document.body.scrollHeight);\")\n",
    "    time.sleep(delay)\n",
    "    \n",
    "    \n",
    "image_urls = set()\n",
    "\n",
    "for search in range(len(urls))[14:]:\n",
    "    url = urls[search]\n",
    "    category = categories[search]\n",
    "    \n",
    "    wd = webdriver.Chrome(executable_path=PATH)\n",
    "\n",
    "\n",
    "    wd.get(url)\n",
    "    delay = 0\n",
    "\n",
    "    skips = 0\n",
    "    before = 100\n",
    "\n",
    "\n",
    "    while skips<=50:\n",
    "\n",
    "        if len(image_urls)%100 == 0:\n",
    "            print(len(image_urls))\n",
    "\n",
    "        thumbnails = wd.find_elements(By.CLASS_NAME, \"Q4LuWd\")\n",
    "        time.sleep(3)\n",
    "        for img in thumbnails:\n",
    "            src = img.get_attribute('src')\n",
    "            if src not in image_urls:\n",
    "                image_urls.add(img.get_attribute('src'))\n",
    "                try:\n",
    "                    urllib.request.urlretrieve(img.get_attribute('src'),HUMAN + category + '_' + str(len(image_urls)) + '.png')            \n",
    "                except:\n",
    "                    continue        \n",
    "\n",
    "        skips +=1\n",
    "        \n",
    "        scroll_down(wd)\n",
    "\n",
    "\n",
    "    wd.quit()"
   ]
  },
  {
   "cell_type": "code",
   "execution_count": 21,
   "id": "9349a220",
   "metadata": {},
   "outputs": [],
   "source": [
    "# Scrape DALLE images"
   ]
  },
  {
   "cell_type": "code",
   "execution_count": 22,
   "id": "addbdce3",
   "metadata": {},
   "outputs": [
    {
     "name": "stderr",
     "output_type": "stream",
     "text": [
      "C:\\Users\\Uzma\\AppData\\Local\\Temp\\ipykernel_8672\\2642686642.py:4: DeprecationWarning: executable_path has been deprecated, please pass in a Service object\n",
      "  wd = webdriver.Chrome(executable_path=PATH)\n"
     ]
    },
    {
     "name": "stdout",
     "output_type": "stream",
     "text": [
      "0\n"
     ]
    }
   ],
   "source": [
    "def scroll_down(wd):\n",
    "    wd.execute_script(\"window.scrollTo(0, document.body.scrollHeight);\")\n",
    "    time.sleep(delay)\n",
    "wd = webdriver.Chrome(executable_path=PATH)\n",
    "url = 'https://dalle2.gallery/#search-random'\n",
    "\n",
    "wd.get(url)\n",
    "max_images = 100\n",
    "delay = 0\n",
    "image_urls = set()\n",
    "skips = 0\n",
    "before = 100\n",
    "\n",
    "while len(image_urls) < max_images:\n",
    "\n",
    "    if len(image_urls)%100 == 0:\n",
    "        print(len(image_urls))\n",
    "\n",
    "    thumbnails = wd.find_elements(By.TAG_NAME, 'img')\n",
    "    time.sleep(1)\n",
    "    for img in thumbnails:\n",
    "\n",
    "#             try:\n",
    "#                 img.click()\n",
    "#                 time.sleep(delay)\n",
    "#             except:\n",
    "#                 continue\n",
    "        try:\n",
    "            src = img.get_attribute('src')\n",
    "            if src not in image_urls:\n",
    "                image_urls.add(img.get_attribute('src'))\n",
    "                try:\n",
    "                    urllib.request.urlretrieve(img.get_attribute('src'),DALLE + str(len(image_urls)) + '.png')            \n",
    "                except:\n",
    "                    continue        \n",
    "#             if len(image_urls) == before:\n",
    "#                 scroll_down(wd)\n",
    "\n",
    "#             before = len(image_urls\n",
    "        except:\n",
    "            break\n",
    "    scroll_down(wd)\n",
    "    \n",
    "wd.quit()"
   ]
  },
  {
   "cell_type": "code",
   "execution_count": null,
   "id": "fd5ccd30",
   "metadata": {},
   "outputs": [],
   "source": []
  },
  {
   "cell_type": "code",
   "execution_count": 23,
   "id": "c622b1a7",
   "metadata": {},
   "outputs": [
    {
     "name": "stdout",
     "output_type": "stream",
     "text": [
      "Requirement already satisfied: webp in c:\\users\\uzma\\anaconda3\\lib\\site-packages (0.1.6)\n",
      "Requirement already satisfied: cffi>=1.0.0 in c:\\users\\uzma\\anaconda3\\lib\\site-packages (from webp) (1.15.1)\n",
      "Requirement already satisfied: numpy>=1.0.0 in c:\\users\\uzma\\anaconda3\\lib\\site-packages (from webp) (1.22.3)\n",
      "Requirement already satisfied: Pillow>=4.0.0 in c:\\users\\uzma\\anaconda3\\lib\\site-packages (from webp) (9.4.0)\n",
      "Requirement already satisfied: pycparser in c:\\users\\uzma\\anaconda3\\lib\\site-packages (from cffi>=1.0.0->webp) (2.21)\n"
     ]
    }
   ],
   "source": [
    "!pip install webp"
   ]
  },
  {
   "cell_type": "code",
   "execution_count": null,
   "id": "fcc5383d",
   "metadata": {},
   "outputs": [],
   "source": []
  },
  {
   "cell_type": "code",
   "execution_count": 24,
   "id": "aff6a895",
   "metadata": {},
   "outputs": [],
   "source": [
    "from keras.preprocessing.image import ImageDataGenerator\n",
    "import pickle as pkl\n",
    "\n",
    "from PIL import Image\n",
    "import numpy as np\n",
    "import os\n",
    "import webp\n",
    "import random"
   ]
  },
  {
   "cell_type": "code",
   "execution_count": 26,
   "id": "dfdc4c99",
   "metadata": {},
   "outputs": [
    {
     "ename": "ValueError",
     "evalue": "Sample larger than population or is negative",
     "output_type": "error",
     "traceback": [
      "\u001b[1;31m---------------------------------------------------------------------------\u001b[0m",
      "\u001b[1;31mValueError\u001b[0m                                Traceback (most recent call last)",
      "Cell \u001b[1;32mIn[26], line 3\u001b[0m\n\u001b[0;32m      1\u001b[0m \u001b[38;5;66;03m### RANDOMNLY SELECT TEST AND TRAINING SAMPLES\u001b[39;00m\n\u001b[0;32m      2\u001b[0m human_files \u001b[38;5;241m=\u001b[39m os\u001b[38;5;241m.\u001b[39mlistdir(\u001b[38;5;124m'\u001b[39m\u001b[38;5;124mC:\u001b[39m\u001b[38;5;130;01m\\\\\u001b[39;00m\u001b[38;5;124mUsers\u001b[39m\u001b[38;5;130;01m\\\\\u001b[39;00m\u001b[38;5;124mUzma\u001b[39m\u001b[38;5;130;01m\\\\\u001b[39;00m\u001b[38;5;124mDesktop\u001b[39m\u001b[38;5;130;01m\\\\\u001b[39;00m\u001b[38;5;124mHUMAN\u001b[39m\u001b[38;5;130;01m\\\\\u001b[39;00m\u001b[38;5;124m'\u001b[39m)\n\u001b[1;32m----> 3\u001b[0m human_train \u001b[38;5;241m=\u001b[39m \u001b[43mrandom\u001b[49m\u001b[38;5;241;43m.\u001b[39;49m\u001b[43msample\u001b[49m\u001b[43m(\u001b[49m\u001b[43mhuman_files\u001b[49m\u001b[43m,\u001b[49m\u001b[43m \u001b[49m\u001b[38;5;241;43m4500\u001b[39;49m\u001b[43m)\u001b[49m\n\u001b[0;32m      4\u001b[0m human_test \u001b[38;5;241m=\u001b[39m [i \u001b[38;5;28;01mfor\u001b[39;00m i \u001b[38;5;129;01min\u001b[39;00m human_files \u001b[38;5;28;01mif\u001b[39;00m i \u001b[38;5;129;01mnot\u001b[39;00m \u001b[38;5;129;01min\u001b[39;00m human_train]\n\u001b[0;32m      6\u001b[0m dalle_files \u001b[38;5;241m=\u001b[39m os\u001b[38;5;241m.\u001b[39mlistdir(\u001b[38;5;124m'\u001b[39m\u001b[38;5;124mC:\u001b[39m\u001b[38;5;130;01m\\\\\u001b[39;00m\u001b[38;5;124mUsers\u001b[39m\u001b[38;5;130;01m\\\\\u001b[39;00m\u001b[38;5;124mUzma\u001b[39m\u001b[38;5;130;01m\\\\\u001b[39;00m\u001b[38;5;124mDesktop\u001b[39m\u001b[38;5;130;01m\\\\\u001b[39;00m\u001b[38;5;124mDALLE\u001b[39m\u001b[38;5;130;01m\\\\\u001b[39;00m\u001b[38;5;124m'\u001b[39m)\n",
      "File \u001b[1;32m~\\anaconda3\\lib\\random.py:482\u001b[0m, in \u001b[0;36mRandom.sample\u001b[1;34m(self, population, k, counts)\u001b[0m\n\u001b[0;32m    480\u001b[0m randbelow \u001b[38;5;241m=\u001b[39m \u001b[38;5;28mself\u001b[39m\u001b[38;5;241m.\u001b[39m_randbelow\n\u001b[0;32m    481\u001b[0m \u001b[38;5;28;01mif\u001b[39;00m \u001b[38;5;129;01mnot\u001b[39;00m \u001b[38;5;241m0\u001b[39m \u001b[38;5;241m<\u001b[39m\u001b[38;5;241m=\u001b[39m k \u001b[38;5;241m<\u001b[39m\u001b[38;5;241m=\u001b[39m n:\n\u001b[1;32m--> 482\u001b[0m     \u001b[38;5;28;01mraise\u001b[39;00m \u001b[38;5;167;01mValueError\u001b[39;00m(\u001b[38;5;124m\"\u001b[39m\u001b[38;5;124mSample larger than population or is negative\u001b[39m\u001b[38;5;124m\"\u001b[39m)\n\u001b[0;32m    483\u001b[0m result \u001b[38;5;241m=\u001b[39m [\u001b[38;5;28;01mNone\u001b[39;00m] \u001b[38;5;241m*\u001b[39m k\n\u001b[0;32m    484\u001b[0m setsize \u001b[38;5;241m=\u001b[39m \u001b[38;5;241m21\u001b[39m        \u001b[38;5;66;03m# size of a small set minus size of an empty list\u001b[39;00m\n",
      "\u001b[1;31mValueError\u001b[0m: Sample larger than population or is negative"
     ]
    }
   ],
   "source": [
    "### RANDOMNLY SELECT TEST AND TRAINING SAMPLES\n",
    "human_files = os.listdir('C:\\\\Users\\\\Uzma\\\\Desktop\\\\HUMAN\\\\')\n",
    "human_train = random.sample(human_files, 4500)\n",
    "human_test = [i for i in human_files if i not in human_train]\n",
    "\n",
    "dalle_files = os.listdir('C:\\\\Users\\\\Uzma\\\\Desktop\\\\DALLE\\\\')\n",
    "dalle_train = random.sample(dalle_files, 4500)\n",
    "dalle_test = [i for i in dalle_files if i not in dalle_train]"
   ]
  },
  {
   "cell_type": "code",
   "execution_count": 27,
   "id": "60f55a18",
   "metadata": {},
   "outputs": [
    {
     "ename": "FileNotFoundError",
     "evalue": "[Errno 2] No such file or directory: 'D:\\\\dalle_classifier\\\\file_names\\\\train.pickle'",
     "output_type": "error",
     "traceback": [
      "\u001b[1;31m---------------------------------------------------------------------------\u001b[0m",
      "\u001b[1;31mFileNotFoundError\u001b[0m                         Traceback (most recent call last)",
      "Cell \u001b[1;32mIn[27], line 1\u001b[0m\n\u001b[1;32m----> 1\u001b[0m \u001b[38;5;28;01mwith\u001b[39;00m \u001b[38;5;28;43mopen\u001b[39;49m\u001b[43m(\u001b[49m\u001b[38;5;124;43m'\u001b[39;49m\u001b[38;5;124;43mD:\u001b[39;49m\u001b[38;5;130;43;01m\\\\\u001b[39;49;00m\u001b[38;5;124;43mdalle_classifier\u001b[39;49m\u001b[38;5;130;43;01m\\\\\u001b[39;49;00m\u001b[38;5;124;43mfile_names\u001b[39;49m\u001b[38;5;130;43;01m\\\\\u001b[39;49;00m\u001b[38;5;124;43m'\u001b[39;49m\u001b[43m \u001b[49m\u001b[38;5;241;43m+\u001b[39;49m\u001b[43m \u001b[49m\u001b[38;5;124;43m'\u001b[39;49m\u001b[38;5;124;43mtrain.pickle\u001b[39;49m\u001b[38;5;124;43m'\u001b[39;49m\u001b[43m,\u001b[49m\u001b[43m \u001b[49m\u001b[38;5;124;43m'\u001b[39;49m\u001b[38;5;124;43mwb\u001b[39;49m\u001b[38;5;124;43m'\u001b[39;49m\u001b[43m)\u001b[49m \u001b[38;5;28;01mas\u001b[39;00m f:\n\u001b[0;32m      2\u001b[0m         pkl\u001b[38;5;241m.\u001b[39mdump([human_train,dalle_train], f)\n\u001b[0;32m      4\u001b[0m \u001b[38;5;28;01mwith\u001b[39;00m \u001b[38;5;28mopen\u001b[39m(\u001b[38;5;124m'\u001b[39m\u001b[38;5;124mD:\u001b[39m\u001b[38;5;130;01m\\\\\u001b[39;00m\u001b[38;5;124mdalle_classifier\u001b[39m\u001b[38;5;130;01m\\\\\u001b[39;00m\u001b[38;5;124mfile_names\u001b[39m\u001b[38;5;130;01m\\\\\u001b[39;00m\u001b[38;5;124m'\u001b[39m \u001b[38;5;241m+\u001b[39m \u001b[38;5;124m'\u001b[39m\u001b[38;5;124mtest.pickle\u001b[39m\u001b[38;5;124m'\u001b[39m, \u001b[38;5;124m'\u001b[39m\u001b[38;5;124mwb\u001b[39m\u001b[38;5;124m'\u001b[39m) \u001b[38;5;28;01mas\u001b[39;00m f:\n",
      "File \u001b[1;32m~\\anaconda3\\lib\\site-packages\\IPython\\core\\interactiveshell.py:282\u001b[0m, in \u001b[0;36m_modified_open\u001b[1;34m(file, *args, **kwargs)\u001b[0m\n\u001b[0;32m    275\u001b[0m \u001b[38;5;28;01mif\u001b[39;00m file \u001b[38;5;129;01min\u001b[39;00m {\u001b[38;5;241m0\u001b[39m, \u001b[38;5;241m1\u001b[39m, \u001b[38;5;241m2\u001b[39m}:\n\u001b[0;32m    276\u001b[0m     \u001b[38;5;28;01mraise\u001b[39;00m \u001b[38;5;167;01mValueError\u001b[39;00m(\n\u001b[0;32m    277\u001b[0m         \u001b[38;5;124mf\u001b[39m\u001b[38;5;124m\"\u001b[39m\u001b[38;5;124mIPython won\u001b[39m\u001b[38;5;124m'\u001b[39m\u001b[38;5;124mt let you open fd=\u001b[39m\u001b[38;5;132;01m{\u001b[39;00mfile\u001b[38;5;132;01m}\u001b[39;00m\u001b[38;5;124m by default \u001b[39m\u001b[38;5;124m\"\u001b[39m\n\u001b[0;32m    278\u001b[0m         \u001b[38;5;124m\"\u001b[39m\u001b[38;5;124mas it is likely to crash IPython. If you know what you are doing, \u001b[39m\u001b[38;5;124m\"\u001b[39m\n\u001b[0;32m    279\u001b[0m         \u001b[38;5;124m\"\u001b[39m\u001b[38;5;124myou can use builtins\u001b[39m\u001b[38;5;124m'\u001b[39m\u001b[38;5;124m open.\u001b[39m\u001b[38;5;124m\"\u001b[39m\n\u001b[0;32m    280\u001b[0m     )\n\u001b[1;32m--> 282\u001b[0m \u001b[38;5;28;01mreturn\u001b[39;00m io_open(file, \u001b[38;5;241m*\u001b[39margs, \u001b[38;5;241m*\u001b[39m\u001b[38;5;241m*\u001b[39mkwargs)\n",
      "\u001b[1;31mFileNotFoundError\u001b[0m: [Errno 2] No such file or directory: 'D:\\\\dalle_classifier\\\\file_names\\\\train.pickle'"
     ]
    }
   ],
   "source": [
    "with open('D:\\\\dalle_classifier\\\\file_names\\\\' + 'train.pickle', 'wb') as f:\n",
    "        pkl.dump([human_train,dalle_train], f)\n",
    "\n",
    "with open('D:\\\\dalle_classifier\\\\file_names\\\\' + 'test.pickle', 'wb') as f:\n",
    "        pkl.dump([human_test,dalle_test], f)\n",
    " "
   ]
  },
  {
   "cell_type": "code",
   "execution_count": 28,
   "id": "25847465",
   "metadata": {},
   "outputs": [
    {
     "ename": "NameError",
     "evalue": "name 'tqdm' is not defined",
     "output_type": "error",
     "traceback": [
      "\u001b[1;31m---------------------------------------------------------------------------\u001b[0m",
      "\u001b[1;31mNameError\u001b[0m                                 Traceback (most recent call last)",
      "Cell \u001b[1;32mIn[28], line 2\u001b[0m\n\u001b[0;32m      1\u001b[0m \u001b[38;5;66;03m#### CREATE TRAINING BATCHES, 5 BATCHES OF 1800 IMAGES EACH (EQUAL DALLE AND HUMAN SPLIT)\u001b[39;00m\n\u001b[1;32m----> 2\u001b[0m \u001b[38;5;28;01mfor\u001b[39;00m batch \u001b[38;5;129;01min\u001b[39;00m \u001b[43mtqdm\u001b[49m(\u001b[38;5;28mrange\u001b[39m(\u001b[38;5;241m5\u001b[39m)):\n\u001b[0;32m      3\u001b[0m     data \u001b[38;5;241m=\u001b[39m []\n\u001b[0;32m      4\u001b[0m     labels \u001b[38;5;241m=\u001b[39m []\n",
      "\u001b[1;31mNameError\u001b[0m: name 'tqdm' is not defined"
     ]
    }
   ],
   "source": [
    "#### CREATE TRAINING BATCHES, 5 BATCHES OF 1800 IMAGES EACH (EQUAL DALLE AND HUMAN SPLIT)\n",
    "for batch in tqdm(range(5)):\n",
    "    data = []\n",
    "    labels = []\n",
    "    human_path = ('C:\\\\Users\\\\Uzma\\\\Desktop\\\\HUMAN\\\\')\n",
    "    for path in human_train[batch*900:(batch+1)*900]:\n",
    "\n",
    "        # Load the image from file\n",
    "        img = Image.open(human_path + path).resize((255,245))\n",
    "\n",
    "        # Convert the image to a numpy array\n",
    "        data.append(np.array(img.convert(\"RGB\"))/255.)\n",
    "        labels.append(0)\n",
    "\n",
    "\n",
    "    dalle_path = ('C:\\\\Users\\\\Uzma\\\\Desktop\\\\DALLE\\\\')\n",
    "    for path in dalle_train[batch*900:(batch+1)*900]:\n",
    "\n",
    "        # Load the image from file\n",
    "        img = webp.load_image(dalle_path + path, 'RGB').resize((256,256)).crop((0,0,255,245))\n",
    "\n",
    "        # Convert the image to a numpy array\n",
    "        data.append(np.array(img)/255.)\n",
    "        labels.append(1)\n",
    "\n",
    "    c = list(zip(data, labels))\n",
    "\n",
    "    random.shuffle(c)\n",
    "\n",
    "    data, labels = zip(*c)\n",
    "    with open('D:\\\\dalle_classifier\\\\train_batches\\\\' + str(batch) + '.pickle', 'wb') as f:\n",
    "        pkl.dump([np.stack(data),np.array(labels)], f)\n",
    "        \n",
    "        \n",
    "    del data\n",
    "    del labels"
   ]
  },
  {
   "cell_type": "code",
   "execution_count": null,
   "id": "9781c5b1",
   "metadata": {},
   "outputs": [],
   "source": [
    "    \n",
    "### CREATE TEST SET\n",
    "data = []\n",
    "labels = []\n",
    "human_path = ('C:\\\\Users\\\\Uzma\\\\Desktop\\\\HUMAN\\\\')\n",
    "for path in human_test:\n",
    "\n",
    "    # Load the image from file\n",
    "    img = Image.open(human_path + path).resize((255,245))\n",
    "\n",
    "    # Convert the image to a numpy array\n",
    "    data.append(np.array(img.convert(\"RGB\"))/255.)\n",
    "    labels.append(0)\n",
    "\n",
    "\n",
    "dalle_path = ('C:\\\\Users\\\\Uzma\\\\Desktop\\\\DALLE\\\\')\n",
    "for path in dalle_test:\n",
    "\n",
    "    # Load the image from file\n",
    "    img = webp.load_image(dalle_path + path, 'RGB').resize((256,256)).crop((0,0,255,245))\n",
    "\n",
    "    # Convert the image to a numpy array\n",
    "    data.append(np.array(img)/255.)\n",
    "    labels.append(1)\n",
    "    \n",
    "with open('D:\\\\dalle_classifier\\\\test_batch\\\\' + 'test_batch.pickle', 'wb') as f:\n",
    "    pkl.dump([np.stack(data),np.array(labels)], f)\n",
    "\n",
    "del data\n",
    "del labels\n",
    "\n",
    "    "
   ]
  },
  {
   "cell_type": "code",
   "execution_count": 29,
   "id": "08c1fc5f",
   "metadata": {},
   "outputs": [],
   "source": [
    "import tensorflow as tf\n",
    "from tensorflow import keras\n",
    "from tensorflow.keras import layers\n",
    "from tqdm import tqdm\n",
    "\n",
    "# Define the CNN model\n",
    "model = keras.Sequential([\n",
    "    layers.Conv2D(32, (3, 3), activation='relu', input_shape=(245, 255, 3)),\n",
    "\n",
    "    layers.MaxPooling2D((2, 2)),\n",
    "\n",
    "    layers.Conv2D(32, (3, 3), activation='relu'),\n",
    "\n",
    "    layers.MaxPooling2D((2, 2)),\n",
    "\n",
    "    layers.Flatten(),\n",
    "\n",
    "    layers.Dense(64, activation='relu'),\n",
    "\n",
    "    layers.Dense(1, activation='sigmoid')\n",
    "])\n",
    "\n",
    "optimizer = keras.optimizers.Adam(learning_rate =0.00005)\n",
    "\n",
    "model.compile(loss='binary_crossentropy', optimizer=optimizer, metrics=['accuracy', ])"
   ]
  },
  {
   "cell_type": "code",
   "execution_count": 30,
   "id": "8aff25e7",
   "metadata": {},
   "outputs": [
    {
     "ename": "FileNotFoundError",
     "evalue": "[Errno 2] No such file or directory: 'D:\\\\dalle_classifier\\\\test_batch\\\\test_batch.pickle'",
     "output_type": "error",
     "traceback": [
      "\u001b[1;31m---------------------------------------------------------------------------\u001b[0m",
      "\u001b[1;31mFileNotFoundError\u001b[0m                         Traceback (most recent call last)",
      "Cell \u001b[1;32mIn[30], line 8\u001b[0m\n\u001b[0;32m      5\u001b[0m results \u001b[38;5;241m=\u001b[39m []\n\u001b[0;32m      7\u001b[0m \u001b[38;5;66;03m#Load test set\u001b[39;00m\n\u001b[1;32m----> 8\u001b[0m \u001b[38;5;28;01mwith\u001b[39;00m \u001b[38;5;28;43mopen\u001b[39;49m\u001b[43m(\u001b[49m\u001b[38;5;124;43m'\u001b[39;49m\u001b[38;5;124;43mD:\u001b[39;49m\u001b[38;5;130;43;01m\\\\\u001b[39;49;00m\u001b[38;5;124;43mdalle_classifier\u001b[39;49m\u001b[38;5;130;43;01m\\\\\u001b[39;49;00m\u001b[38;5;124;43mtest_batch\u001b[39;49m\u001b[38;5;130;43;01m\\\\\u001b[39;49;00m\u001b[38;5;124;43m'\u001b[39;49m\u001b[43m \u001b[49m\u001b[38;5;241;43m+\u001b[39;49m\u001b[43m \u001b[49m\u001b[38;5;124;43m'\u001b[39;49m\u001b[38;5;124;43mtest_batch.pickle\u001b[39;49m\u001b[38;5;124;43m'\u001b[39;49m\u001b[43m,\u001b[49m\u001b[43m \u001b[49m\u001b[38;5;124;43m'\u001b[39;49m\u001b[38;5;124;43mrb\u001b[39;49m\u001b[38;5;124;43m'\u001b[39;49m\u001b[43m)\u001b[49m \u001b[38;5;28;01mas\u001b[39;00m f:\n\u001b[0;32m      9\u001b[0m     test \u001b[38;5;241m=\u001b[39m pkl\u001b[38;5;241m.\u001b[39mload(f)\n\u001b[0;32m     11\u001b[0m \u001b[38;5;28;01mfor\u001b[39;00m epoch \u001b[38;5;129;01min\u001b[39;00m \u001b[38;5;28mrange\u001b[39m(\u001b[38;5;241m10\u001b[39m):\n",
      "File \u001b[1;32m~\\anaconda3\\lib\\site-packages\\IPython\\core\\interactiveshell.py:282\u001b[0m, in \u001b[0;36m_modified_open\u001b[1;34m(file, *args, **kwargs)\u001b[0m\n\u001b[0;32m    275\u001b[0m \u001b[38;5;28;01mif\u001b[39;00m file \u001b[38;5;129;01min\u001b[39;00m {\u001b[38;5;241m0\u001b[39m, \u001b[38;5;241m1\u001b[39m, \u001b[38;5;241m2\u001b[39m}:\n\u001b[0;32m    276\u001b[0m     \u001b[38;5;28;01mraise\u001b[39;00m \u001b[38;5;167;01mValueError\u001b[39;00m(\n\u001b[0;32m    277\u001b[0m         \u001b[38;5;124mf\u001b[39m\u001b[38;5;124m\"\u001b[39m\u001b[38;5;124mIPython won\u001b[39m\u001b[38;5;124m'\u001b[39m\u001b[38;5;124mt let you open fd=\u001b[39m\u001b[38;5;132;01m{\u001b[39;00mfile\u001b[38;5;132;01m}\u001b[39;00m\u001b[38;5;124m by default \u001b[39m\u001b[38;5;124m\"\u001b[39m\n\u001b[0;32m    278\u001b[0m         \u001b[38;5;124m\"\u001b[39m\u001b[38;5;124mas it is likely to crash IPython. If you know what you are doing, \u001b[39m\u001b[38;5;124m\"\u001b[39m\n\u001b[0;32m    279\u001b[0m         \u001b[38;5;124m\"\u001b[39m\u001b[38;5;124myou can use builtins\u001b[39m\u001b[38;5;124m'\u001b[39m\u001b[38;5;124m open.\u001b[39m\u001b[38;5;124m\"\u001b[39m\n\u001b[0;32m    280\u001b[0m     )\n\u001b[1;32m--> 282\u001b[0m \u001b[38;5;28;01mreturn\u001b[39;00m io_open(file, \u001b[38;5;241m*\u001b[39margs, \u001b[38;5;241m*\u001b[39m\u001b[38;5;241m*\u001b[39mkwargs)\n",
      "\u001b[1;31mFileNotFoundError\u001b[0m: [Errno 2] No such file or directory: 'D:\\\\dalle_classifier\\\\test_batch\\\\test_batch.pickle'"
     ]
    }
   ],
   "source": [
    "import pickle as pkl\n",
    "import os\n",
    "import gc\n",
    "\n",
    "results = []\n",
    "\n",
    "#Load test set\n",
    "with open('D:\\\\dalle_classifier\\\\test_batch\\\\' + 'test_batch.pickle', 'rb') as f:\n",
    "    test = pkl.load(f)\n",
    "\n",
    "for epoch in range(10):\n",
    "    total = 0\n",
    "    \n",
    "    #Load train set\n",
    "    batch_path = 'D:\\\\dalle_classifier\\\\train_batches\\\\'\n",
    "    for batch in os.listdir(batch_path):\n",
    "        with open(batch_path + batch , 'rb') as f:\n",
    "            train = pkl.load(f)\n",
    "        \n",
    "        #Train model\n",
    "        \n",
    "        hh = model.fit(train[0], train[1], epochs=1, validation_data= (test[0], test[1]))\n",
    "        gc.collect()\n",
    "        keras.backend.clear_session()\n",
    "        \n",
    "        \n",
    "        #Save results\n",
    "        results.append([ hh.history['val_accuracy'][0], hh.history['accuracy'][0]])\n",
    "        "
   ]
  },
  {
   "cell_type": "code",
   "execution_count": 31,
   "id": "c04c6221",
   "metadata": {},
   "outputs": [],
   "source": [
    "# model.save('D:\\\\dalle_classifier\\\\model.h5')\n",
    "# with open('D:\\\\dalle_classifier\\\\accuracy.pickle', 'wb') as f:\n",
    "#     pkl.dump(results, f)"
   ]
  },
  {
   "cell_type": "code",
   "execution_count": 32,
   "id": "614d3676",
   "metadata": {},
   "outputs": [
    {
     "data": {
      "image/png": "[encoded data removed]",
      "text/plain": [
       "<Figure size 1000x1000 with 1 Axes>"
      ]
     },
     "metadata": {},
     "output_type": "display_data"
    }
   ],
   "source": [
    "import matplotlib.pyplot as plt\n",
    "\n",
    "plt.figure(figsize = (10,10))\n",
    "plt.title('Accuracy')\n",
    "\n",
    "plt.plot([i for i in range(len(results)+1)],[0] + [i[0]*100 for i in results],color='darkorange', label = 'Validation Set')\n",
    "plt.plot( [i for i in range(len(results)+1)], [0] + [i[1]*100 for i in results],color='navy', label = 'Train Set')\n",
    "\n",
    "plt.grid()\n",
    "plt.legend()\n",
    "plt.ylim(0,100)\n",
    "plt.xlabel('Epoch')\n",
    "plt.ylabel('Accuracy')\n",
    "plt.show()"
   ]
  },
  {
   "cell_type": "code",
   "execution_count": 33,
   "id": "9109100b",
   "metadata": {},
   "outputs": [
    {
     "ename": "NameError",
     "evalue": "name 'test' is not defined",
     "output_type": "error",
     "traceback": [
      "\u001b[1;31m---------------------------------------------------------------------------\u001b[0m",
      "\u001b[1;31mNameError\u001b[0m                                 Traceback (most recent call last)",
      "Cell \u001b[1;32mIn[33], line 6\u001b[0m\n\u001b[0;32m      2\u001b[0m \u001b[38;5;28;01mimport\u001b[39;00m \u001b[38;5;21;01mseaborn\u001b[39;00m \u001b[38;5;28;01mas\u001b[39;00m \u001b[38;5;21;01msns\u001b[39;00m\n\u001b[0;32m      3\u001b[0m \u001b[38;5;28;01mimport\u001b[39;00m \u001b[38;5;21;01mnumpy\u001b[39;00m \u001b[38;5;28;01mas\u001b[39;00m \u001b[38;5;21;01mnp\u001b[39;00m\n\u001b[1;32m----> 6\u001b[0m y_pred \u001b[38;5;241m=\u001b[39m np\u001b[38;5;241m.\u001b[39mround(model\u001b[38;5;241m.\u001b[39mpredict(\u001b[43mtest\u001b[49m[\u001b[38;5;241m0\u001b[39m]))\n\u001b[0;32m      7\u001b[0m y_true \u001b[38;5;241m=\u001b[39m test[\u001b[38;5;241m1\u001b[39m]\n\u001b[0;32m     10\u001b[0m \u001b[38;5;66;03m# Create confusion matrix\u001b[39;00m\n",
      "\u001b[1;31mNameError\u001b[0m: name 'test' is not defined"
     ]
    }
   ],
   "source": [
    "from sklearn.metrics import confusion_matrix\n",
    "import seaborn as sns\n",
    "import numpy as np\n",
    "\n",
    "\n",
    "y_pred = np.round(model.predict(test[0]))\n",
    "y_true = test[1]\n",
    "\n",
    "\n",
    "# Create confusion matrix\n",
    "cm = confusion_matrix(y_true, y_pred)\n",
    "\n",
    "# Define labels\n",
    "labels = ['Human', 'DALLE-2']\n",
    "\n",
    "# Create heatmap with labels\n",
    "sns.heatmap(cm, annot=True, cmap='Blues', xticklabels=labels, yticklabels=labels)"
   ]
  },
  {
   "cell_type": "code",
   "execution_count": 34,
   "id": "2dc2f824",
   "metadata": {},
   "outputs": [
    {
     "ename": "NameError",
     "evalue": "name 'test' is not defined",
     "output_type": "error",
     "traceback": [
      "\u001b[1;31m---------------------------------------------------------------------------\u001b[0m",
      "\u001b[1;31mNameError\u001b[0m                                 Traceback (most recent call last)",
      "Cell \u001b[1;32mIn[34], line 4\u001b[0m\n\u001b[0;32m      1\u001b[0m \u001b[38;5;28;01mfrom\u001b[39;00m \u001b[38;5;21;01msklearn\u001b[39;00m\u001b[38;5;21;01m.\u001b[39;00m\u001b[38;5;21;01mmetrics\u001b[39;00m \u001b[38;5;28;01mimport\u001b[39;00m roc_curve, auc\n\u001b[0;32m      3\u001b[0m \u001b[38;5;66;03m# Example true and predicted labels and probabilities\u001b[39;00m\n\u001b[1;32m----> 4\u001b[0m y_pred_proba \u001b[38;5;241m=\u001b[39m model\u001b[38;5;241m.\u001b[39mpredict(\u001b[43mtest\u001b[49m[\u001b[38;5;241m0\u001b[39m])\n\u001b[0;32m      6\u001b[0m \u001b[38;5;66;03m# Compute ROC curve and AUC\u001b[39;00m\n\u001b[0;32m      7\u001b[0m fpr, tpr, thresholds \u001b[38;5;241m=\u001b[39m roc_curve(y_true, y_pred_proba)\n",
      "\u001b[1;31mNameError\u001b[0m: name 'test' is not defined"
     ]
    }
   ],
   "source": [
    "from sklearn.metrics import roc_curve, auc\n",
    "\n",
    "# Example true and predicted labels and probabilities\n",
    "y_pred_proba = model.predict(test[0])\n",
    "\n",
    "# Compute ROC curve and AUC\n",
    "fpr, tpr, thresholds = roc_curve(y_true, y_pred_proba)\n",
    "roc_auc = auc(fpr, tpr)\n",
    "\n",
    "# Plot ROC curve\n",
    "plt.figure(figsize = (10,10))\n",
    "plt.plot(fpr, tpr, color='darkorange', lw=2, label='ROC curve (AUC = %0.2f)' % roc_auc)\n",
    "plt.plot([0, 1], [0, 1], color='navy', lw=2, linestyle='--')\n",
    "plt.xlabel('False Positive Rate')\n",
    "plt.ylabel('True Positive Rate')\n",
    "plt.title('Receiver Operating Characteristic (ROC) Curve')\n",
    "plt.legend(loc='lower right')\n",
    "plt.grid()\n",
    "plt.show()"
   ]
  },
  {
   "cell_type": "code",
   "execution_count": 35,
   "id": "fe3d3bc3",
   "metadata": {},
   "outputs": [
    {
     "ename": "NameError",
     "evalue": "name 'test_files' is not defined",
     "output_type": "error",
     "traceback": [
      "\u001b[1;31m---------------------------------------------------------------------------\u001b[0m",
      "\u001b[1;31mNameError\u001b[0m                                 Traceback (most recent call last)",
      "Cell \u001b[1;32mIn[35], line 1\u001b[0m\n\u001b[1;32m----> 1\u001b[0m \u001b[43mtest_files\u001b[49m[\u001b[38;5;241m0\u001b[39m][\u001b[38;5;241m100\u001b[39m]\n",
      "\u001b[1;31mNameError\u001b[0m: name 'test_files' is not defined"
     ]
    }
   ],
   "source": [
    "test_files[0][100]"
   ]
  },
  {
   "cell_type": "code",
   "execution_count": 36,
   "id": "46cb75d1",
   "metadata": {},
   "outputs": [
    {
     "ename": "NameError",
     "evalue": "name 'y_pred_proba' is not defined",
     "output_type": "error",
     "traceback": [
      "\u001b[1;31m---------------------------------------------------------------------------\u001b[0m",
      "\u001b[1;31mNameError\u001b[0m                                 Traceback (most recent call last)",
      "Cell \u001b[1;32mIn[36], line 1\u001b[0m\n\u001b[1;32m----> 1\u001b[0m \u001b[38;5;28mprint\u001b[39m(\u001b[43my_pred_proba\u001b[49m[\u001b[38;5;241m100\u001b[39m])\n",
      "\u001b[1;31mNameError\u001b[0m: name 'y_pred_proba' is not defined"
     ]
    }
   ],
   "source": [
    "print(y_pred_proba[100])"
   ]
  },
  {
   "cell_type": "code",
   "execution_count": null,
   "id": "3e1ff86b",
   "metadata": {},
   "outputs": [],
   "source": []
  }
 ],
 "metadata": {
  "kernelspec": {
   "display_name": "Python 3 (ipykernel)",
   "language": "python",
   "name": "python3"
  },
  "language_info": {
   "codemirror_mode": {
    "name": "ipython",
    "version": 3
   },
   "file_extension": ".py",
   "mimetype": "text/x-python",
   "name": "python",
   "nbconvert_exporter": "python",
   "pygments_lexer": "ipython3",
   "version": "3.10.9"
  }
 },
 "nbformat": 4,
 "nbformat_minor": 5
}
